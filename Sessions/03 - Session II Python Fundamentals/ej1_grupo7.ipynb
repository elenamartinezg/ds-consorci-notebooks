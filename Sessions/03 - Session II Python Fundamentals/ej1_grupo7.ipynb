{
 "cells": [
  {
   "cell_type": "markdown",
   "metadata": {},
   "source": [
    "## Instrucciones\n",
    "1. **Importar Librería:**\n",
    "   - Utiliza la librería `random` para que la máquina pueda hacer su elección de manera aleatoria.\n",
    "2. **Solicitar la Entrada del Usuario:**\n",
    "   - Pide al usuario que ingrese su elección de \"piedra\", \"papel\" o \"tijeras\".\n",
    "   - Asegúrate de que la entrada sea en minúsculas para facilitar la comparación.\n",
    "3. **Elección de la Máquina:**\n",
    "   - La máquina debe elegir aleatoriamente entre \"piedra\", \"papel\" o \"tijeras\". Usa la función `random.choice()` para esto.\n",
    "4. **Comparar Elecciones:**\n",
    "   - Utiliza estructuras condicionales (`if`, `elif`, `else`) para comparar la elección del usuario con la elección de la máquina.\n",
    "   - Determina quién gana según las reglas del juego:\n",
    "     - Piedra gana a Tijeras\n",
    "     - Tijeras gana a Papel\n",
    "     - Papel gana a Piedra\n",
    "   - Si ambos eligen lo mismo, es un empate.\n",
    "5. **Mostrar el Resultado:**\n",
    "   - Muestra la elección del usuario y de la máquina, así como el resultado del juego (si ganó el usuario, la máquina, o si es un empate)."
   ]
  },
  {
   "cell_type": "code",
   "execution_count": 1,
   "metadata": {},
   "outputs": [],
   "source": [
    "import random"
   ]
  },
  {
   "cell_type": "code",
   "execution_count": 2,
   "metadata": {},
   "outputs": [
    {
     "name": "stdout",
     "output_type": "stream",
     "text": [
      "Human: piedra\n"
     ]
    }
   ],
   "source": [
    "human = input(\"Inserte piedra, papel o tijeras:\").lower()\n",
    "print(f\"Human: {human}\")"
   ]
  },
  {
   "cell_type": "code",
   "execution_count": 3,
   "metadata": {},
   "outputs": [
    {
     "name": "stdout",
     "output_type": "stream",
     "text": [
      "Machine: tijeras\n"
     ]
    }
   ],
   "source": [
    "machine = random.choice([\"piedra\", \"papel\", \"tijeras\"])\n",
    "print(f\"Machine: {machine}\")"
   ]
  },
  {
   "cell_type": "code",
   "execution_count": 4,
   "metadata": {},
   "outputs": [
    {
     "name": "stdout",
     "output_type": "stream",
     "text": [
      "Gana HUMAN con Piedra! \n",
      "human: piedra vs. machine: tijeras\n"
     ]
    }
   ],
   "source": [
    "if human == machine:\n",
    "    print(f\"Empate: human: {human} vs. machine: {machine}\")\n",
    "else:\n",
    "    if (human == \"piedra\") and (machine == \"tijeras\"):\n",
    "        print(f\"Gana HUMAN con Piedra! \\nhuman: {human} vs. machine: {machine}\")\n",
    "    elif (human == \"tijeras\") and (machine == \"papel\"):\n",
    "        print(f\"Gana HUMAN con Tijeras! \\nhuman: {human} vs. machine: {machine}\")\n",
    "    elif (human == \"papel\") and (machine == \"piedra\"):\n",
    "        print(f\"Gana HUMAN con Papel! \\nhuman: {human} vs. machine: {machine}\")\n",
    "    else:\n",
    "        print(f\"Gana MACHINE con {machine}! \\nhuman: {human} vs. machine: {machine}\")"
   ]
  }
 ],
 "metadata": {
  "kernelspec": {
   "display_name": "venv-mida",
   "language": "python",
   "name": "python3"
  },
  "language_info": {
   "codemirror_mode": {
    "name": "ipython",
    "version": 3
   },
   "file_extension": ".py",
   "mimetype": "text/x-python",
   "name": "python",
   "nbconvert_exporter": "python",
   "pygments_lexer": "ipython3",
   "version": "3.12.2"
  }
 },
 "nbformat": 4,
 "nbformat_minor": 2
}
