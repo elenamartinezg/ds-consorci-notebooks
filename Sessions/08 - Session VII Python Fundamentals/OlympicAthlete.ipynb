{
 "cells": [
  {
   "cell_type": "markdown",
   "metadata": {},
   "source": [
    "## Ejercicio 1 : Sistema de Deportistas Olímpicos :sports_medal:\n",
    "### Instrucciones:\n",
    "1. Define una clase llamada `OlympicAthlete`.\n",
    "2. La clase debe tener los siguientes atributos:\n",
    "   - `name`: el nombre del deportista.\n",
    "   - `sport`: el deporte en el que compite.\n",
    "   - `medal`: un atributo que almacena el tipo de medalla ganada (por ejemplo, \"oro\", \"plata\" o \"bronce\"). Por defecto, el valor será `None` (sin medalla).\n",
    "3. Crea un método `win_medal` que permita asignar una medalla al atleta.\n",
    "4. Crea un método `display_info` que muestre la información del deportista, incluyendo el tipo de medalla ganada (si tiene una)."
   ]
  },
  {
   "cell_type": "code",
   "execution_count": 13,
   "metadata": {},
   "outputs": [],
   "source": [
    "class OlympicAthlete():\n",
    "    def __init__(self, name, sport):\n",
    "        self.name = name\n",
    "        self.sport = sport\n",
    "        self.medal = None\n",
    "            \n",
    "    def win_medal(self, medal=None):\n",
    "        self.medal = medal\n",
    "    \n",
    "    def display_info(self):\n",
    "        print(f\"Name: {self.name}, Medal: {self.medal}, Sport: {self.sport}\")"
   ]
  },
  {
   "cell_type": "code",
   "execution_count": 18,
   "metadata": {},
   "outputs": [
    {
     "name": "stdout",
     "output_type": "stream",
     "text": [
      "Name: Elena, Medal: None, Sport: Voley\n"
     ]
    }
   ],
   "source": [
    "olympic_athlete = OlympicAthlete(name=\"Elena\", sport=\"Voley\")\n",
    "olympic_athlete.display_info()"
   ]
  },
  {
   "cell_type": "code",
   "execution_count": 19,
   "metadata": {},
   "outputs": [
    {
     "name": "stdout",
     "output_type": "stream",
     "text": [
      "Name: Elena, Medal: oro, Sport: Voley\n"
     ]
    }
   ],
   "source": [
    "olympic_athlete.win_medal(medal=\"oro\")\n",
    "olympic_athlete.display_info()"
   ]
  }
 ],
 "metadata": {
  "kernelspec": {
   "display_name": "venv-mida",
   "language": "python",
   "name": "python3"
  },
  "language_info": {
   "codemirror_mode": {
    "name": "ipython",
    "version": 3
   },
   "file_extension": ".py",
   "mimetype": "text/x-python",
   "name": "python",
   "nbconvert_exporter": "python",
   "pygments_lexer": "ipython3",
   "version": "3.12.2"
  }
 },
 "nbformat": 4,
 "nbformat_minor": 2
}
